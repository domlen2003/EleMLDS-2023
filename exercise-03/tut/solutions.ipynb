{
 "cells": [
  {
   "cell_type": "markdown",
   "metadata": {},
   "source": [
    "## Evaluation of supervised regression models"
   ]
  },
  {
   "cell_type": "code",
   "execution_count": 2,
   "metadata": {
    "ExecuteTime": {
     "end_time": "2023-12-12T13:45:28.157354Z",
     "start_time": "2023-12-12T13:45:25.984504Z"
    }
   },
   "outputs": [],
   "source": [
    "# Import the necessary libraries\n",
    "import pandas as pd\n",
    "from matplotlib import pyplot as plt\n",
    "%matplotlib inline  \n",
    "import numpy as np\n",
    "from sklearn import datasets, linear_model"
   ]
  },
  {
   "cell_type": "markdown",
   "metadata": {},
   "source": [
    "We will use the same data as in the lecture."
   ]
  },
  {
   "cell_type": "code",
   "execution_count": 3,
   "metadata": {
    "ExecuteTime": {
     "end_time": "2023-12-12T13:45:28.262614Z",
     "start_time": "2023-12-12T13:45:28.168635Z"
    }
   },
   "outputs": [
    {
     "data": {
      "text/plain": "    #entrance  final\n0       54.17   65.0\n1       57.50   80.0\n2       75.83   92.0\n3       86.67   94.0\n4       44.17   85.0\n5       75.00   86.0\n6       60.00   80.0\n7       60.83   70.0\n8       68.33   61.0\n9       73.33   85.0\n10      70.00   87.0\n11      65.00   75.0\n12      63.33   78.0\n13      32.50   80.0\n14      68.33   87.0\n15      73.33   83.0\n16      61.67   71.0\n17      70.83   86.0\n18      68.33   69.0\n19      68.33   86.0\n20      58.33   75.0\n21      74.17   84.0\n22      69.17   91.0\n23      91.67   88.0\n24      60.83   84.0\n25      70.00   85.0\n26      81.67   90.0\n27      76.67   80.0\n28      77.50   80.0",
      "text/html": "<div>\n<style scoped>\n    .dataframe tbody tr th:only-of-type {\n        vertical-align: middle;\n    }\n\n    .dataframe tbody tr th {\n        vertical-align: top;\n    }\n\n    .dataframe thead th {\n        text-align: right;\n    }\n</style>\n<table border=\"1\" class=\"dataframe\">\n  <thead>\n    <tr style=\"text-align: right;\">\n      <th></th>\n      <th>#entrance</th>\n      <th>final</th>\n    </tr>\n  </thead>\n  <tbody>\n    <tr>\n      <th>0</th>\n      <td>54.17</td>\n      <td>65.0</td>\n    </tr>\n    <tr>\n      <th>1</th>\n      <td>57.50</td>\n      <td>80.0</td>\n    </tr>\n    <tr>\n      <th>2</th>\n      <td>75.83</td>\n      <td>92.0</td>\n    </tr>\n    <tr>\n      <th>3</th>\n      <td>86.67</td>\n      <td>94.0</td>\n    </tr>\n    <tr>\n      <th>4</th>\n      <td>44.17</td>\n      <td>85.0</td>\n    </tr>\n    <tr>\n      <th>5</th>\n      <td>75.00</td>\n      <td>86.0</td>\n    </tr>\n    <tr>\n      <th>6</th>\n      <td>60.00</td>\n      <td>80.0</td>\n    </tr>\n    <tr>\n      <th>7</th>\n      <td>60.83</td>\n      <td>70.0</td>\n    </tr>\n    <tr>\n      <th>8</th>\n      <td>68.33</td>\n      <td>61.0</td>\n    </tr>\n    <tr>\n      <th>9</th>\n      <td>73.33</td>\n      <td>85.0</td>\n    </tr>\n    <tr>\n      <th>10</th>\n      <td>70.00</td>\n      <td>87.0</td>\n    </tr>\n    <tr>\n      <th>11</th>\n      <td>65.00</td>\n      <td>75.0</td>\n    </tr>\n    <tr>\n      <th>12</th>\n      <td>63.33</td>\n      <td>78.0</td>\n    </tr>\n    <tr>\n      <th>13</th>\n      <td>32.50</td>\n      <td>80.0</td>\n    </tr>\n    <tr>\n      <th>14</th>\n      <td>68.33</td>\n      <td>87.0</td>\n    </tr>\n    <tr>\n      <th>15</th>\n      <td>73.33</td>\n      <td>83.0</td>\n    </tr>\n    <tr>\n      <th>16</th>\n      <td>61.67</td>\n      <td>71.0</td>\n    </tr>\n    <tr>\n      <th>17</th>\n      <td>70.83</td>\n      <td>86.0</td>\n    </tr>\n    <tr>\n      <th>18</th>\n      <td>68.33</td>\n      <td>69.0</td>\n    </tr>\n    <tr>\n      <th>19</th>\n      <td>68.33</td>\n      <td>86.0</td>\n    </tr>\n    <tr>\n      <th>20</th>\n      <td>58.33</td>\n      <td>75.0</td>\n    </tr>\n    <tr>\n      <th>21</th>\n      <td>74.17</td>\n      <td>84.0</td>\n    </tr>\n    <tr>\n      <th>22</th>\n      <td>69.17</td>\n      <td>91.0</td>\n    </tr>\n    <tr>\n      <th>23</th>\n      <td>91.67</td>\n      <td>88.0</td>\n    </tr>\n    <tr>\n      <th>24</th>\n      <td>60.83</td>\n      <td>84.0</td>\n    </tr>\n    <tr>\n      <th>25</th>\n      <td>70.00</td>\n      <td>85.0</td>\n    </tr>\n    <tr>\n      <th>26</th>\n      <td>81.67</td>\n      <td>90.0</td>\n    </tr>\n    <tr>\n      <th>27</th>\n      <td>76.67</td>\n      <td>80.0</td>\n    </tr>\n    <tr>\n      <th>28</th>\n      <td>77.50</td>\n      <td>80.0</td>\n    </tr>\n  </tbody>\n</table>\n</div>"
     },
     "execution_count": 3,
     "metadata": {},
     "output_type": "execute_result"
    }
   ],
   "source": [
    "data = pd.DataFrame(data=[[54.17, 57.5, 75.83, 86.67, 44.17, 75, 60, 60.83, 68.33, 73.33, 70, 65, 63.33, 32.5, 68.33, 73.33, 61.67, 70.83, 68.33, 68.33, 58.33, 74.17, 69.17, 91.67, 60.83, 70, 81.67, 76.67, 77.5],\n",
    "[65, 80, 92, 94, 85, 86, 80, 70, 61, 85, 87, 75, 78, 80, 87, 83, 71, 86, 69, 86, 75, 84, 91, 88, 84, 85, 90, 80, 80]]).T\n",
    "data.columns = [\"#entrance\", \"final\"]\n",
    "data"
   ]
  },
  {
   "cell_type": "code",
   "execution_count": 4,
   "metadata": {
    "ExecuteTime": {
     "end_time": "2023-12-12T13:45:28.773072Z",
     "start_time": "2023-12-12T13:45:28.187386Z"
    }
   },
   "outputs": [
    {
     "data": {
      "text/plain": "<Figure size 640x480 with 1 Axes>",
      "image/png": "[encoded data removed]"
     },
     "metadata": {},
     "output_type": "display_data"
    }
   ],
   "source": [
    "plt.scatter(data['#entrance'], data['final'])\n",
    "plt.xlim(40, 100)\n",
    "plt.ylim(40, 100)\n",
    "plt.xlabel(\"#entrance\")\n",
    "plt.ylabel(\"final\")\n",
    "plt.show()"
   ]
  },
  {
   "cell_type": "markdown",
   "metadata": {},
   "source": [
    "If there is any statistic that normally takes precedence over the others, it is the **root mean squared error (RMSE)**, which is the square root of the mean squared error.\n",
    "\n",
    "$RMSE = \\sqrt{\\frac{1}{N} \\sum_{i=1}^{N} (t_i - \\mathbb{M}(x_i))^2}$\n",
    "\n",
    "\n",
    "where $\\mathbb{M}(x_i)$ is the predicted or estimated value and $t_i$ is the true target value. Finally the N represents the number of non-missing data points.\n",
    "\n",
    "The function that calculates the RMSE is (note that for simplicity, we denote the true target value as y_true and and the predicted value as y_pred):"
   ]
  },
  {
   "cell_type": "code",
   "execution_count": 5,
   "metadata": {
    "ExecuteTime": {
     "end_time": "2023-12-12T13:45:28.775524Z",
     "start_time": "2023-12-12T13:45:28.506467Z"
    }
   },
   "outputs": [],
   "source": [
    "def rmse(y_pred, y_true):\n",
    "    return np.sqrt(np.mean((y_pred - y_true)**2))"
   ]
  },
  {
   "cell_type": "code",
   "execution_count": 6,
   "metadata": {
    "ExecuteTime": {
     "end_time": "2023-12-12T13:45:28.831116Z",
     "start_time": "2023-12-12T13:45:28.514463Z"
    }
   },
   "outputs": [
    {
     "data": {
      "text/plain": "17.66189830465961"
     },
     "execution_count": 6,
     "metadata": {},
     "output_type": "execute_result"
    }
   ],
   "source": [
    "rmse(data['#entrance'], data['final'])"
   ]
  },
  {
   "cell_type": "markdown",
   "metadata": {},
   "source": [
    "### Question\n",
    "How good is this value? Can we judge the quality of the model by simply using that number?\n",
    "\n",
    "TPS: Think about it, talk to you partner, discuss in the group!\n",
    "<br></br>\n",
    "\n",
    "<details>\n",
    "    <summary>Click once on <font color=\"red\"><b>this text</b></font> to hide/unhide the answer!</summary>\n",
    "  \n",
    "  # Answer removed for preview\n",
    "</details>"
   ]
  },
  {
   "cell_type": "markdown",
   "metadata": {},
   "source": [
    "The **mean absolute error (MAE)** is also measured in the same units as the data, and is usually similar in magnitude to, but slightly smaller than, the root mean squared error.  It is less sensitive to the occasional very large error because it does not square the errors in the calculation.\n",
    "\n",
    "$$ MAE = \\frac{1}{N} \\sum_{i=1}^{N}   |t_i - \\mathbb{M}(x_i)|$$"
   ]
  },
  {
   "cell_type": "code",
   "execution_count": 7,
   "metadata": {
    "ExecuteTime": {
     "end_time": "2023-12-12T13:45:28.832575Z",
     "start_time": "2023-12-12T13:45:28.521815Z"
    }
   },
   "outputs": [],
   "source": [
    "def mae(y_pred, y_true):\n",
    "    return np.mean(np.abs(y_pred - y_true))"
   ]
  },
  {
   "cell_type": "code",
   "execution_count": 8,
   "metadata": {
    "ExecuteTime": {
     "end_time": "2023-12-12T13:45:29.034966Z",
     "start_time": "2023-12-12T13:45:28.528258Z"
    }
   },
   "outputs": [
    {
     "data": {
      "text/plain": "14.534827586206896"
     },
     "execution_count": 8,
     "metadata": {},
     "output_type": "execute_result"
    }
   ],
   "source": [
    "mae(data['#entrance'], data['final'])"
   ]
  },
  {
   "cell_type": "markdown",
   "metadata": {},
   "source": [
    "The **Pearson’s correlation coefficient** is a measure of the linear correlation between two variables X and Y. It has a value between +1 and −1, where 1 is perfect positive linear correlation, 0 is no linear correlation, and −1 is total negative linear correlation. \n",
    "\n",
    "The formula for $\\rho$ is:\n",
    "\n",
    "$$\\rho_{t,\\mathbb{M}(x)} = \\frac{cov(t,\\mathbb{M}(x))}{\\sigma _{t}\\sigma _{\\mathbb{M}(x)}} = \\frac{\\sum_{i=1}^N (t_i - \\bar{t})(\\mathbb{M}(x_i) - \\bar{\\mathbb{M}}(x))}{\\sqrt{\\sum_{i=1}^N (t_i - \\bar{t})^2}\\sqrt{\\sum_{i=1}^N (\\mathbb{M}(x_i) - \\bar{\\mathbb{M}}(x))^2}}$$\n",
    "\n",
    "where:\n",
    "\n",
    "* $\\rho$ is the Pearson correlation coefficient\n",
    "* $cov$ is the covarianve\n",
    "* $\\bar{\\mathbb{M}}(x)$ is the mean of $\\mathbb{M}(x))$\n",
    "* $\\bar{t}$ is the mean of $t$\n",
    "* $\\sigma _{t}$ is the standard deviation of t\n",
    "* $\\sigma _{\\mathbb{M}(x)}$  is the standard deviation of $\\mathbb{M}(x)$\n",
    "* $N$ is the number of data points\n"
   ]
  },
  {
   "cell_type": "markdown",
   "metadata": {},
   "source": [
    "### Question:\n",
    "\n",
    "TPS\n",
    "\n",
    "In the following code, we added three mistakes. Can you spot them?\n",
    "\n",
    "With \"three mistakes\", we mean three different kinds of mistakes. When we added the same mistake multiple times, it is counted as one mistake."
   ]
  },
  {
   "cell_type": "code",
   "execution_count": 9,
   "metadata": {
    "ExecuteTime": {
     "end_time": "2023-12-12T13:45:29.036304Z",
     "start_time": "2023-12-12T13:45:28.535906Z"
    }
   },
   "outputs": [],
   "source": [
    "def pearson_corr(y_true, y_pred):\n",
    "    n = len(y_true)\n",
    "    mean_y_true = sum(y_true) / n\n",
    "    mean_y_pred = sum(y_pred) / n\n",
    "    cov = sum((y_true[i] - mean_y_true) + (y_pred[i] - mean_y_true) for i in range(1, n))/n\n",
    "    std_y_true = (sum((y_true[i] - mean_y_true) ** 2 for i in range(1, n)) / n) ** 0.5\n",
    "    std_y_pred = (sum((y_pred[i] - mean_y_pred) ** 2 for i in range(1, n)) / n) ** 0.5\n",
    "    return cov / (std_y_true * std_y_pred)"
   ]
  },
  {
   "cell_type": "markdown",
   "metadata": {},
   "source": [
    "### Solution"
   ]
  },
  {
   "cell_type": "code",
   "execution_count": 10,
   "metadata": {
    "ExecuteTime": {
     "end_time": "2023-12-12T13:45:29.037256Z",
     "start_time": "2023-12-12T13:45:28.541719Z"
    }
   },
   "outputs": [],
   "source": [
    "# Answer removed for preview"
   ]
  },
  {
   "cell_type": "code",
   "execution_count": 11,
   "metadata": {
    "ExecuteTime": {
     "end_time": "2023-12-12T13:45:29.038352Z",
     "start_time": "2023-12-12T13:45:28.549355Z"
    }
   },
   "outputs": [
    {
     "data": {
      "text/plain": "-0.14625467854168991"
     },
     "execution_count": 11,
     "metadata": {},
     "output_type": "execute_result"
    }
   ],
   "source": [
    "pearson_corr(data['final'], data['#entrance'])"
   ]
  },
  {
   "cell_type": "markdown",
   "metadata": {},
   "source": [
    "Alternatively, you can use the **numpy** package:"
   ]
  },
  {
   "cell_type": "code",
   "execution_count": 12,
   "metadata": {
    "scrolled": true,
    "ExecuteTime": {
     "end_time": "2023-12-12T13:45:29.039501Z",
     "start_time": "2023-12-12T13:45:28.555234Z"
    }
   },
   "outputs": [
    {
     "data": {
      "text/plain": "array([[1.        , 0.41531248],\n       [0.41531248, 1.        ]])"
     },
     "execution_count": 12,
     "metadata": {},
     "output_type": "execute_result"
    }
   ],
   "source": [
    "np.corrcoef(data['#entrance'], data['final'])"
   ]
  },
  {
   "cell_type": "markdown",
   "metadata": {},
   "source": [
    "**R-squared** is the “percent of variance explained” by the model.  That is, R-squared is the fraction by which the variance of the errors is less than the variance of the dependent variable.  (The latter number would be the error variance for a constant-only model, which merely predicts that every observation will equal the sample mean.)  It is called R-squared because in a simple regression model it is just the square of the correlation between the dependent and independent variables, which is commonly denoted by “r”. \n",
    "\n",
    "If $\\bar{t}$ is the mean of the observed data:\n",
    "\n",
    "$$ \\bar{t} = \\frac{1}{n}\\sum_{i=1}^{N}t_i $$\n",
    "\n",
    "then the variability of the data set can be measured using the following **sum of squares** formulas:\n",
    "\n",
    "* The sum of squares of errors, also called the residual sum of squares:\n",
    "\n",
    "$$ SS_{err} = \\sum_{i}^{N}(t_i- \\mathbb{M}(x_i))^2 $$\n",
    "\n",
    "* The total sum of squares (proportional to the variable of the data):\n",
    "\n",
    "$$ SS_{tot} = \\sum_{i}^{N}(t_i-\\bar{t})^2 $$\n",
    "\n",
    "And the general definition of the coefficient of determination is:\n",
    "\n",
    "$$ R^2 \\equiv 1 - \\frac{SS_{err}}{SS_{tot}} $$\n",
    "\n",
    "An **R-squared** of 1 indicates that the model perfectly fits the data."
   ]
  },
  {
   "cell_type": "markdown",
   "metadata": {},
   "source": [
    "### Question:\n",
    "\n",
    "In the following code, we added two mistakes. Can you spot them?\n",
    "\n",
    "(Hint: the max function is not the mistake, we define the R-squared to be between 0 and 1.)"
   ]
  },
  {
   "cell_type": "code",
   "execution_count": 13,
   "metadata": {
    "ExecuteTime": {
     "end_time": "2023-12-12T13:45:29.055252Z",
     "start_time": "2023-12-12T13:45:28.561630Z"
    }
   },
   "outputs": [],
   "source": [
    "def r2(y_pred, y_true):\n",
    "    return max(0, 1 - np.sum((y_true-y_pred)*2) / np.sum((y_true - np.mean(y_pred))*2))"
   ]
  },
  {
   "cell_type": "markdown",
   "metadata": {},
   "source": [
    "### Solution:"
   ]
  },
  {
   "cell_type": "code",
   "execution_count": 14,
   "metadata": {
    "ExecuteTime": {
     "end_time": "2023-12-12T13:45:29.056501Z",
     "start_time": "2023-12-12T13:45:28.565665Z"
    }
   },
   "outputs": [],
   "source": [
    "# Answer removed for preview"
   ]
  },
  {
   "cell_type": "code",
   "execution_count": 15,
   "metadata": {
    "ExecuteTime": {
     "end_time": "2023-12-12T13:45:29.057706Z",
     "start_time": "2023-12-12T13:45:28.571057Z"
    }
   },
   "outputs": [
    {
     "data": {
      "text/plain": "0"
     },
     "execution_count": 15,
     "metadata": {},
     "output_type": "execute_result"
    }
   ],
   "source": [
    "r2(data['#entrance'], data['final'])"
   ]
  },
  {
   "cell_type": "markdown",
   "metadata": {},
   "source": [
    "### Question\n",
    "Hmm, interesting, the **Pearson correlation coefficient is 0.42, but the R-Squared is 0**! Did we do a mistake in the implementation? Or is the value true? \n",
    "\n",
    "TPS: Think about it, talk to you partner, discuss in the group!\n",
    "<br></br>\n",
    "\n",
    "<details>\n",
    "    <summary>Click once on <font color=\"red\"><b>this text</b></font> to hide/unhide the answer!</summary>\n",
    "  \n",
    "  # Answer removed for preview\n",
    "</details>\n"
   ]
  },
  {
   "cell_type": "markdown",
   "metadata": {},
   "source": [
    "Last, we will have a look at the **spearman rank coefficient**."
   ]
  },
  {
   "cell_type": "code",
   "execution_count": 16,
   "metadata": {
    "ExecuteTime": {
     "end_time": "2023-12-12T13:45:29.058719Z",
     "start_time": "2023-12-12T13:45:28.576688Z"
    }
   },
   "outputs": [],
   "source": [
    "from scipy.stats import spearmanr"
   ]
  },
  {
   "cell_type": "code",
   "execution_count": 17,
   "metadata": {
    "ExecuteTime": {
     "end_time": "2023-12-12T13:45:29.061693Z",
     "start_time": "2023-12-12T13:45:28.596111Z"
    }
   },
   "outputs": [
    {
     "data": {
      "text/plain": "    #entrance  final  rank #entrance  rank final  diff  diff_squared\n13      32.50   80.0               0          11   -11           121\n4       44.17   85.0               1          18   -17           289\n0       54.17   65.0               2           2     0             0\n1       57.50   80.0               3          11    -8            64\n20      58.33   75.0               4           6    -2             4\n6       60.00   80.0               5          11    -6            36\n24      60.83   84.0               6          15    -9            81\n7       60.83   70.0               7           4     3             9\n16      61.67   71.0               8           5     3             9\n12      63.33   78.0               9           8     1             1\n11      65.00   75.0              10           6     4            16\n19      68.33   86.0              11          21   -10           100\n18      68.33   69.0              12           3     9            81\n14      68.33   87.0              13          23   -10           100\n8       68.33   61.0              14           1    13           169\n22      69.17   91.0              15          27   -12           144\n25      70.00   85.0              16          18    -2             4\n10      70.00   87.0              17          23    -6            36\n17      70.83   86.0              18          21    -3             9\n15      73.33   83.0              19          14     5            25\n9       73.33   85.0              20          18     2             4\n21      74.17   84.0              21          15     6            36\n5       75.00   86.0              22          21     1             1\n2       75.83   92.0              23          28    -5            25\n27      76.67   80.0              24          11    13           169\n28      77.50   80.0              25          11    14           196\n26      81.67   90.0              26          26     0             0\n3       86.67   94.0              27          29    -2             4\n23      91.67   88.0              28          25     3             9",
      "text/html": "<div>\n<style scoped>\n    .dataframe tbody tr th:only-of-type {\n        vertical-align: middle;\n    }\n\n    .dataframe tbody tr th {\n        vertical-align: top;\n    }\n\n    .dataframe thead th {\n        text-align: right;\n    }\n</style>\n<table border=\"1\" class=\"dataframe\">\n  <thead>\n    <tr style=\"text-align: right;\">\n      <th></th>\n      <th>#entrance</th>\n      <th>final</th>\n      <th>rank #entrance</th>\n      <th>rank final</th>\n      <th>diff</th>\n      <th>diff_squared</th>\n    </tr>\n  </thead>\n  <tbody>\n    <tr>\n      <th>13</th>\n      <td>32.50</td>\n      <td>80.0</td>\n      <td>0</td>\n      <td>11</td>\n      <td>-11</td>\n      <td>121</td>\n    </tr>\n    <tr>\n      <th>4</th>\n      <td>44.17</td>\n      <td>85.0</td>\n      <td>1</td>\n      <td>18</td>\n      <td>-17</td>\n      <td>289</td>\n    </tr>\n    <tr>\n      <th>0</th>\n      <td>54.17</td>\n      <td>65.0</td>\n      <td>2</td>\n      <td>2</td>\n      <td>0</td>\n      <td>0</td>\n    </tr>\n    <tr>\n      <th>1</th>\n      <td>57.50</td>\n      <td>80.0</td>\n      <td>3</td>\n      <td>11</td>\n      <td>-8</td>\n      <td>64</td>\n    </tr>\n    <tr>\n      <th>20</th>\n      <td>58.33</td>\n      <td>75.0</td>\n      <td>4</td>\n      <td>6</td>\n      <td>-2</td>\n      <td>4</td>\n    </tr>\n    <tr>\n      <th>6</th>\n      <td>60.00</td>\n      <td>80.0</td>\n      <td>5</td>\n      <td>11</td>\n      <td>-6</td>\n      <td>36</td>\n    </tr>\n    <tr>\n      <th>24</th>\n      <td>60.83</td>\n      <td>84.0</td>\n      <td>6</td>\n      <td>15</td>\n      <td>-9</td>\n      <td>81</td>\n    </tr>\n    <tr>\n      <th>7</th>\n      <td>60.83</td>\n      <td>70.0</td>\n      <td>7</td>\n      <td>4</td>\n      <td>3</td>\n      <td>9</td>\n    </tr>\n    <tr>\n      <th>16</th>\n      <td>61.67</td>\n      <td>71.0</td>\n      <td>8</td>\n      <td>5</td>\n      <td>3</td>\n      <td>9</td>\n    </tr>\n    <tr>\n      <th>12</th>\n      <td>63.33</td>\n      <td>78.0</td>\n      <td>9</td>\n      <td>8</td>\n      <td>1</td>\n      <td>1</td>\n    </tr>\n    <tr>\n      <th>11</th>\n      <td>65.00</td>\n      <td>75.0</td>\n      <td>10</td>\n      <td>6</td>\n      <td>4</td>\n      <td>16</td>\n    </tr>\n    <tr>\n      <th>19</th>\n      <td>68.33</td>\n      <td>86.0</td>\n      <td>11</td>\n      <td>21</td>\n      <td>-10</td>\n      <td>100</td>\n    </tr>\n    <tr>\n      <th>18</th>\n      <td>68.33</td>\n      <td>69.0</td>\n      <td>12</td>\n      <td>3</td>\n      <td>9</td>\n      <td>81</td>\n    </tr>\n    <tr>\n      <th>14</th>\n      <td>68.33</td>\n      <td>87.0</td>\n      <td>13</td>\n      <td>23</td>\n      <td>-10</td>\n      <td>100</td>\n    </tr>\n    <tr>\n      <th>8</th>\n      <td>68.33</td>\n      <td>61.0</td>\n      <td>14</td>\n      <td>1</td>\n      <td>13</td>\n      <td>169</td>\n    </tr>\n    <tr>\n      <th>22</th>\n      <td>69.17</td>\n      <td>91.0</td>\n      <td>15</td>\n      <td>27</td>\n      <td>-12</td>\n      <td>144</td>\n    </tr>\n    <tr>\n      <th>25</th>\n      <td>70.00</td>\n      <td>85.0</td>\n      <td>16</td>\n      <td>18</td>\n      <td>-2</td>\n      <td>4</td>\n    </tr>\n    <tr>\n      <th>10</th>\n      <td>70.00</td>\n      <td>87.0</td>\n      <td>17</td>\n      <td>23</td>\n      <td>-6</td>\n      <td>36</td>\n    </tr>\n    <tr>\n      <th>17</th>\n      <td>70.83</td>\n      <td>86.0</td>\n      <td>18</td>\n      <td>21</td>\n      <td>-3</td>\n      <td>9</td>\n    </tr>\n    <tr>\n      <th>15</th>\n      <td>73.33</td>\n      <td>83.0</td>\n      <td>19</td>\n      <td>14</td>\n      <td>5</td>\n      <td>25</td>\n    </tr>\n    <tr>\n      <th>9</th>\n      <td>73.33</td>\n      <td>85.0</td>\n      <td>20</td>\n      <td>18</td>\n      <td>2</td>\n      <td>4</td>\n    </tr>\n    <tr>\n      <th>21</th>\n      <td>74.17</td>\n      <td>84.0</td>\n      <td>21</td>\n      <td>15</td>\n      <td>6</td>\n      <td>36</td>\n    </tr>\n    <tr>\n      <th>5</th>\n      <td>75.00</td>\n      <td>86.0</td>\n      <td>22</td>\n      <td>21</td>\n      <td>1</td>\n      <td>1</td>\n    </tr>\n    <tr>\n      <th>2</th>\n      <td>75.83</td>\n      <td>92.0</td>\n      <td>23</td>\n      <td>28</td>\n      <td>-5</td>\n      <td>25</td>\n    </tr>\n    <tr>\n      <th>27</th>\n      <td>76.67</td>\n      <td>80.0</td>\n      <td>24</td>\n      <td>11</td>\n      <td>13</td>\n      <td>169</td>\n    </tr>\n    <tr>\n      <th>28</th>\n      <td>77.50</td>\n      <td>80.0</td>\n      <td>25</td>\n      <td>11</td>\n      <td>14</td>\n      <td>196</td>\n    </tr>\n    <tr>\n      <th>26</th>\n      <td>81.67</td>\n      <td>90.0</td>\n      <td>26</td>\n      <td>26</td>\n      <td>0</td>\n      <td>0</td>\n    </tr>\n    <tr>\n      <th>3</th>\n      <td>86.67</td>\n      <td>94.0</td>\n      <td>27</td>\n      <td>29</td>\n      <td>-2</td>\n      <td>4</td>\n    </tr>\n    <tr>\n      <th>23</th>\n      <td>91.67</td>\n      <td>88.0</td>\n      <td>28</td>\n      <td>25</td>\n      <td>3</td>\n      <td>9</td>\n    </tr>\n  </tbody>\n</table>\n</div>"
     },
     "execution_count": 17,
     "metadata": {},
     "output_type": "execute_result"
    }
   ],
   "source": [
    "data_ordered = data.sort_values(by=\"#entrance\")\n",
    "data_ordered['rank #entrance'] = np.arange(len(data)) # get ranks for #entrance, which is simple as we ordered by this column in the step before\n",
    "data_ordered['rank final'] = data_ordered['final'].rank().astype(int) # get ranks for final\n",
    "data_ordered['diff'] = data_ordered['rank #entrance'] - data_ordered['rank final'] #get the difference between the ranks\n",
    "data_ordered['diff_squared'] = data_ordered['diff']**2 #square them\n",
    "data_ordered"
   ]
  },
  {
   "cell_type": "markdown",
   "metadata": {},
   "source": [
    "We use again the scipy package. Note that in the first cell, we use the dedicated function \"spearmanr\", but in the second the function \"pearson_corr\" we used earlier."
   ]
  },
  {
   "cell_type": "code",
   "execution_count": 18,
   "metadata": {
    "ExecuteTime": {
     "end_time": "2023-12-12T13:45:29.071637Z",
     "start_time": "2023-12-12T13:45:28.602158Z"
    }
   },
   "outputs": [
    {
     "name": "stdout",
     "output_type": "stream",
     "text": [
      "Spearman coefficient calculated with the function for spearman: 0.58\n"
     ]
    }
   ],
   "source": [
    "spearman_coef, p_value = spearmanr(data_ordered['#entrance'], data_ordered['final'])\n",
    "print('Spearman coefficient calculated with the function for spearman:', round(spearman_coef, 2))"
   ]
  },
  {
   "cell_type": "code",
   "execution_count": 19,
   "metadata": {
    "ExecuteTime": {
     "end_time": "2023-12-12T13:45:29.072909Z",
     "start_time": "2023-12-12T13:45:28.609776Z"
    }
   },
   "outputs": [
    {
     "name": "stdout",
     "output_type": "stream",
     "text": [
      "Spearman coefficient calculated with the function for pearson: 0.03\n"
     ]
    }
   ],
   "source": [
    "spearman_coef = pearson_corr(data_ordered['rank #entrance'], data_ordered['rank final'])\n",
    "print('Spearman coefficient calculated with the function for pearson:', round(spearman_coef, 2))"
   ]
  },
  {
   "cell_type": "markdown",
   "metadata": {},
   "source": [
    "### Question\n",
    "Why is it possible to calculate the Spearman coefficient with the functions *spearmanr* **AND** with *pearson_corr*?\n",
    "\n",
    "TPS: Think about it, talk to you partner, discuss in the group!\n",
    "\n",
    "Hint: You might want to do a websearch for this one.\n",
    "<br></br>\n",
    "\n",
    "<details>\n",
    "    <summary>Click once on <font color=\"red\"><b>this text</b></font> to hide/unhide the answer!</summary>\n",
    "  \n",
    "  # Answer removed for preview\n",
    "</details>\n"
   ]
  },
  {
   "cell_type": "markdown",
   "metadata": {},
   "source": [
    "So, now you can create a function that calculates all this goodness of fit measures, and reuse it as often as you want!"
   ]
  },
  {
   "cell_type": "code",
   "execution_count": 20,
   "metadata": {
    "ExecuteTime": {
     "end_time": "2023-12-12T13:45:29.073844Z",
     "start_time": "2023-12-12T13:45:28.616011Z"
    }
   },
   "outputs": [],
   "source": [
    "def compute_error(y_true, y_pred, nvariables = 2):\n",
    "    corr = np.corrcoef(y_pred, y_true)[0,1]\n",
    "    rho2 = pearson_corr(y_pred, y_true)\n",
    "    spearman_coef = spearmanr(data_ordered['#entrance'], data_ordered['final'])[0]\n",
    "    mae = np.mean(np.abs(y_pred - y_true))\n",
    "    rmse = np.sqrt(np.mean((y_pred - y_true)**2))\n",
    "    r_squared = max(0, 1 - np.sum((y_true-y_pred)**2) / np.sum((y_true - np.mean(y_true))**2))\n",
    "    return  corr, rho2, spearman_coef, mae, rmse, r_squared"
   ]
  },
  {
   "cell_type": "code",
   "execution_count": 21,
   "metadata": {
    "ExecuteTime": {
     "end_time": "2023-12-12T13:45:29.075200Z",
     "start_time": "2023-12-12T13:45:28.623860Z"
    }
   },
   "outputs": [
    {
     "name": "stdout",
     "output_type": "stream",
     "text": [
      "Root Mean Squared Error =  17.66189830465961\n",
      "Mean Absolute Error =  14.534827586206896\n",
      "R-squared =  0\n",
      "Pearson’s correlation coefficient =  -0.14625467854168991\n",
      "Spearman's correlation coefficient =  0.5830871342760287\n"
     ]
    }
   ],
   "source": [
    "corr, rho2, spearman_coef, mae, rmse, r_squared = compute_error(data['#entrance'], data['final'])\n",
    "\n",
    "print(\"Root Mean Squared Error = \", rmse)\n",
    "print(\"Mean Absolute Error = \", mae)\n",
    "print(\"R-squared = \", r_squared)\n",
    "print(\"Pearson’s correlation coefficient = \", rho2)\n",
    "print(\"Spearman's correlation coefficient = \", spearman_coef)"
   ]
  }
 ],
 "metadata": {
  "kernelspec": {
   "display_name": "Python 3",
   "language": "python",
   "name": "python3"
  },
  "language_info": {
   "codemirror_mode": {
    "name": "ipython",
    "version": 3
   },
   "file_extension": ".py",
   "mimetype": "text/x-python",
   "name": "python",
   "nbconvert_exporter": "python",
   "pygments_lexer": "ipython3",
   "version": "3.11.5"
  }
 },
 "nbformat": 4,
 "nbformat_minor": 2
}
