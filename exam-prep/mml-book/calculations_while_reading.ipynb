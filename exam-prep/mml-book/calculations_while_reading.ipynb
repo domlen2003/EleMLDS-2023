{
 "cells": [
  {
   "cell_type": "code",
   "execution_count": 77,
   "outputs": [
    {
     "name": "stdout",
     "output_type": "stream",
     "text": [
      "[[2 4 5]\n",
      " [3 2 1]] [[1]\n",
      " [2]\n",
      " [3]]\n",
      "[]\n"
     ]
    },
    {
     "data": {
      "text/plain": "array([], dtype=float64)"
     },
     "execution_count": 77,
     "metadata": {},
     "output_type": "execute_result"
    }
   ],
   "source": [
    "import numpy as np\n",
    "\n",
    "# A = np.array([[1, 2],\n",
    "#               [3, 4]])\n",
    "# \n",
    "# B = np.array([[1, 2],\n",
    "#               [3, 4]])\n",
    "# \n",
    "# A = np.array([[1, 2, 3],\n",
    "#               [2, 4, 6]])\n",
    "# \n",
    "# B = np.array([[1, 2],\n",
    "#               [3, 4],\n",
    "#               [2, 0]])\n",
    "\n",
    "# \n",
    "A = np.array([[2,4,5],\n",
    "              [3,2,1]])\n",
    "\n",
    "B = np.array([[1],\n",
    "              [2],\n",
    "              [3]])\n",
    "\n",
    "# A = np.array([[0,-2,2],\n",
    "#               [5,1,5],\n",
    "#               [1,4,-1]])\n",
    "# \n",
    "# B = np.array([[0,1,2],\n",
    "#               [3,4,5],\n",
    "#               [6,7,8]])\n",
    "\n",
    "# np.einsum('il,ij', A, B)\n",
    "\n",
    "mathmul(A,B)"
   ],
   "metadata": {
    "collapsed": false,
    "ExecuteTime": {
     "end_time": "2024-01-08T12:08:26.676703Z",
     "start_time": "2024-01-08T12:08:26.673098Z"
    }
   },
   "id": "6501084cb83145b8"
  },
  {
   "cell_type": "code",
   "execution_count": 78,
   "outputs": [],
   "source": [
    "def mathmul(m1, m2):\n",
    "    result = np.array([])\n",
    "    print(m1, \"\\n\", m2)\n",
    "    if m1.shape[1] != m2.shape[0]:\n",
    "        raise Exception(\"number of columns of the first matrix should equal number of rows of the second matrix\")\n",
    "    for l in range(m1.shape[1]):\n",
    "        for i in range(m1.shape[0]):\n",
    "            for j in range(m2.shape[1]):\n",
    "                pass\n",
    "                # result = np.append(result, m1[i:l]*m2[l:j])\n",
    "    print(result)\n",
    "    # result.shape = (m1.shape[0], m2.shape[1])\n",
    "    return result"
   ],
   "metadata": {
    "collapsed": false,
    "ExecuteTime": {
     "end_time": "2024-01-08T12:08:45.801277Z",
     "start_time": "2024-01-08T12:08:45.795572Z"
    }
   },
   "id": "d84e89f98d806945"
  },
  {
   "cell_type": "markdown",
   "source": [
    "# Matrix multiplication\n",
    "Matrizen werden multipliziert indem man die Zeilen der ersten Matrix mit den Spalten der zweiten Matrix multipliziert und die Ergebnisse aufaddiert.\n",
    "$$\n",
    "\\begin{bmatrix}\n",
    "    1 & 2 \\\\\n",
    "    3 & 4 \\\\\n",
    "    2 & 0\n",
    "\\end{bmatrix}\n",
    "\\in \\mathbb{R}^{3 \\times 2}\n",
    "\n",
    "\\times\n",
    "\n",
    "\\begin{bmatrix}\n",
    "    1 & 2 & 3 \\\\\n",
    "    2 & 4 & 6\n",
    "\\end{bmatrix}\n",
    "\\in \\mathbb{R}^{2 \\times 3}\n",
    "\n",
    "\\equals\n",
    "\n",
    "\\begin{bmatrix}\n",
    "    1 & 2 & 3 \\\\\n",
    "    4 & 5 & 6\n",
    "\\end{bmatrix}\n",
    "\\in \\mathbb{R}^{2 \\times 3}\n",
    "$$\n",
    "\n",
    "Der erste Vektor bestimmt die Anzahl der Spalten und der zweite die Anzahl der Zeilen des Ergebnisses."
   ],
   "metadata": {
    "collapsed": false
   },
   "id": "21bb56e9d0f26de8"
  },
  {
   "cell_type": "code",
   "execution_count": null,
   "outputs": [],
   "source": [],
   "metadata": {
    "collapsed": false
   },
   "id": "3b65c6a141e6a0a"
  }
 ],
 "metadata": {
  "kernelspec": {
   "display_name": "Python 3",
   "language": "python",
   "name": "python3"
  },
  "language_info": {
   "codemirror_mode": {
    "name": "ipython",
    "version": 2
   },
   "file_extension": ".py",
   "mimetype": "text/x-python",
   "name": "python",
   "nbconvert_exporter": "python",
   "pygments_lexer": "ipython2",
   "version": "2.7.6"
  }
 },
 "nbformat": 4,
 "nbformat_minor": 5
}
